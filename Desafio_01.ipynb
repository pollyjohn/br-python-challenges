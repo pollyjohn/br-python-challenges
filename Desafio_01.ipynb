{
 "cells": [
  {
   "cell_type": "markdown",
   "metadata": {
    "colab_type": "text",
    "id": "view-in-github"
   },
   "source": [
    "![](https://i.imgur.com/YX6UATs.png)"
   ]
  },
  {
   "cell_type": "markdown",
   "metadata": {
    "colab_type": "text",
    "id": "SbLLE9q1eldC"
   },
   "source": [
    "### Desafio 1\n",
    "\n",
    "Escreva um programa em Python para contabilizar a quantidade de ocorrências de cada palavra."
   ]
  },
  {
   "cell_type": "code",
   "execution_count": 1,
   "metadata": {
    "colab": {},
    "colab_type": "code",
    "id": "WhtbdwFseldD"
   },
   "outputs": [],
   "source": [
    "palavras = [\n",
    "   'red', 'green', 'black', 'pink', 'black', 'white', 'black', 'eyes',\n",
    "   'white', 'black', 'orange', 'pink', 'pink', 'red', 'red', 'white', 'orange',\n",
    "   'white', \"black\", 'pink', 'green', 'green', 'pink', 'green', 'pink',\n",
    "   'white', 'orange', \"orange\", 'red'\n",
    "]\n",
    "\n",
    "\n",
    "# Seu código"
   ]
  },
  {
   "cell_type": "code",
   "execution_count": 136,
   "metadata": {
    "colab": {},
    "colab_type": "code",
    "id": "M58o1U9KfAxa"
   },
   "outputs": [],
   "source": [
    "\n",
    "def contabilizar():  \n",
    "    red = []\n",
    "    green = []\n",
    "    black = []\n",
    "    pink = []\n",
    "    white = []\n",
    "    eyes = []\n",
    "    orange = []\n",
    "        \n",
    "    for i in palavras:\n",
    "        if i == 'red':\n",
    "            red.append(1)\n",
    "            soma_red = sum(red)\n",
    "        elif i == 'green':\n",
    "            green.append(1)\n",
    "            soma_green = sum(green)\n",
    "        elif i == 'black':\n",
    "            black.append(1)\n",
    "            soma_black = sum(black)\n",
    "        elif i == 'pink':\n",
    "            pink.append(1)\n",
    "            soma_pink = sum(pink)\n",
    "        elif i == 'white':\n",
    "            white.append(1)\n",
    "            soma_white = sum(white)\n",
    "        elif i == 'eyes':\n",
    "            eyes.append(1)\n",
    "            soma_eyes = sum(eyes)\n",
    "        elif i == 'orange':\n",
    "            orange.append(1)\n",
    "            soma_orange = sum(orange)\n",
    "    print (f'a recorrencia de cada palavra é:\\n red {soma_red} vezes; \\n green {soma_green} vezes; \\n black {soma_black} vezes; \\n pink {soma_pink} vezes; \\n white {soma_white} vezes; \\n eyes {soma_eyes} vezes; \\n orange {soma_orange} vezes') \n",
    "    "
   ]
  },
  {
   "cell_type": "code",
   "execution_count": 128,
   "metadata": {},
   "outputs": [],
   "source": [
    "\n",
    "def contabilizar():  \n",
    "    contador_red = 0\n",
    "    contador_green = 0\n",
    "    contador_black = 0\n",
    "    contador_pink = 0\n",
    "    contador_white = 0\n",
    "    contador_eyes = 0\n",
    "    contador_orange = 0\n",
    "    for i in palavras:\n",
    "        if i == 'red':\n",
    "            contador_red = contador_red+1\n",
    "        elif i == 'green':\n",
    "            contador_green = contador_green+1\n",
    "        elif i == 'black':\n",
    "            contador_black = contador_black+1\n",
    "        elif i == 'pink':\n",
    "            contador_pink = contador_pink+1\n",
    "        elif i == 'white':\n",
    "            contador_white = contador_white+1\n",
    "        elif i == 'eyes':\n",
    "            contador_eyes = contador_eyes+1\n",
    "        elif i == 'orange':\n",
    "            contador_orange = contador_orange+1\n",
    "        \n",
    "    print(f'a palavra red aparece {contador_red} vezes,\\n a palavra green {contador_green} vezes,\\n a palavra black {contador_black} vezes,\\n a palavra pink {contador_pink} vezes,\\n a palavra white {contador_white} vezes,\\n a palavra eyes  {contador_eyes} vezes \\n e a palavra orange {contador_orange} vezes')  "
   ]
  },
  {
   "cell_type": "code",
   "execution_count": 137,
   "metadata": {},
   "outputs": [
    {
     "name": "stdout",
     "output_type": "stream",
     "text": [
      "a recorrencia de cada palavra é:\n",
      " red 4 vezes; \n",
      " green 4 vezes; \n",
      " black 5 vezes; \n",
      " pink 6 vezes; \n",
      " white 5 vezes; \n",
      " eyes 1 vezes; \n",
      " orange 4 vezes\n"
     ]
    }
   ],
   "source": [
    "contabilizar()"
   ]
  },
  {
   "cell_type": "code",
   "execution_count": 95,
   "metadata": {},
   "outputs": [],
   "source": [
    "x = contabilizar"
   ]
  }
 ],
 "metadata": {
  "anaconda-cloud": {},
  "colab": {
   "include_colab_link": true,
   "name": "Desafio 1.ipynb",
   "provenance": []
  },
  "kernelspec": {
   "display_name": "Python 3",
   "language": "python",
   "name": "python3"
  },
  "language_info": {
   "codemirror_mode": {
    "name": "ipython",
    "version": 3
   },
   "file_extension": ".py",
   "mimetype": "text/x-python",
   "name": "python",
   "nbconvert_exporter": "python",
   "pygments_lexer": "ipython3",
   "version": "3.8.8"
  }
 },
 "nbformat": 4,
 "nbformat_minor": 4
}
