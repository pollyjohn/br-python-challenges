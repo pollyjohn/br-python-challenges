{
 "cells": [
  {
   "cell_type": "markdown",
   "metadata": {
    "colab_type": "text",
    "id": "view-in-github"
   },
   "source": [
    "![](https://i.imgur.com/YX6UATs.png)"
   ]
  },
  {
   "cell_type": "markdown",
   "metadata": {
    "colab_type": "text",
    "id": "y1R0m4oWf6Jz"
   },
   "source": [
    "### Desafio 8\n",
    "Dados uma sequência com `n` números inteiros, determinar quantos números da sequência são pares e quantos são ímpares.\\\n",
    "Por exemplo, para a sequência\n",
    "\n",
    "`6   2   7  -5   8  -4`\n",
    "\n",
    "a sua função deve retornar o número 4 para o número de pares e 2 para o de ímpares.\\\n",
    "A saída deve ser um **tupla** contendo primeiramente o número de pares e em seguida o número de ímpares.\\\n",
    "Para o exemplo anterior, a saída seria `(4, 2)`."
   ]
  },
  {
   "cell_type": "code",
   "execution_count": 11,
   "metadata": {
    "colab": {},
    "colab_type": "code",
    "id": "pSIzX4zUf6Jz"
   },
   "outputs": [],
   "source": [
    "# Seu código\n",
    "entrada = [6,2,7,-5,8,-4]\n",
    "lista_pares=[]\n",
    "lista_impares=[]\n",
    "contagem = []\n",
    "def contar_pares_impares(entrada):\n",
    "    for i in entrada:\n",
    "        if i%2==0:\n",
    "            lista_pares.append(i)\n",
    "        else:\n",
    "            lista_impares.append(i)\n",
    "    contagem1 = int(len(lista_pares))\n",
    "    contagem2 = int(len(lista_impares))\n",
    "    contagem.append(contagem1)\n",
    "    contagem.append(contagem2)\n",
    "    tuple_contagem = tuple(contagem)\n",
    "    return tuple_contagem"
   ]
  },
  {
   "cell_type": "code",
   "execution_count": 12,
   "metadata": {
    "colab": {},
    "colab_type": "code",
    "id": "OQG6erslSjri"
   },
   "outputs": [
    {
     "data": {
      "text/plain": [
       "(4, 2)"
      ]
     },
     "execution_count": 12,
     "metadata": {},
     "output_type": "execute_result"
    }
   ],
   "source": [
    "contar_pares_impares(entrada)"
   ]
  },
  {
   "cell_type": "code",
   "execution_count": null,
   "metadata": {},
   "outputs": [],
   "source": []
  }
 ],
 "metadata": {
  "anaconda-cloud": {},
  "colab": {
   "include_colab_link": true,
   "name": "Desafio 11.ipynb",
   "provenance": []
  },
  "kernelspec": {
   "display_name": "Python 3",
   "language": "python",
   "name": "python3"
  },
  "language_info": {
   "codemirror_mode": {
    "name": "ipython",
    "version": 3
   },
   "file_extension": ".py",
   "mimetype": "text/x-python",
   "name": "python",
   "nbconvert_exporter": "python",
   "pygments_lexer": "ipython3",
   "version": "3.8.8"
  }
 },
 "nbformat": 4,
 "nbformat_minor": 4
}
