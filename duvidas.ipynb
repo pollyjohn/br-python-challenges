{
 "cells": [
  {
   "cell_type": "markdown",
   "metadata": {},
   "source": [
    "**duvidas que surgiram de tentativas**"
   ]
  },
  {
   "cell_type": "code",
   "execution_count": 1,
   "metadata": {
    "colab": {},
    "colab_type": "code",
    "id": "ndTkQEUBf6JS"
   },
   "outputs": [],
   "source": [
    "# Seu código\n",
    "lista = [1,2,3,4,3,30,3,4,5,6,9,3,2,1,2,4,5,15,6,6,3,13,4,45,5]\n",
    "\n"
   ]
  },
  {
   "cell_type": "code",
   "execution_count": 4,
   "metadata": {},
   "outputs": [],
   "source": [
    "#se eu quero que ele faça uma busca na lista, mas faça o append só do primeiro item que satisfaça  a condição e depois \n",
    "#faça um break e passe pro próximo item da busca como eu faria?\n",
    "lista_1 = []\n",
    "lista_2 = []\n",
    "sorted_lista = sorted(lista)\n",
    "final_lista  = []\n",
    "start = 0\n",
    "def sim_1(lista):\n",
    "    while True:\n",
    "        for i in lista:\n",
    "            busca = lista[start]\n",
    "            if i == 2:\n",
    "                final_lista.append(i)\n",
    "            break\n",
    "            \n",
    "        return final_lista"
   ]
  },
  {
   "cell_type": "code",
   "execution_count": 6,
   "metadata": {},
   "outputs": [
    {
     "data": {
      "text/plain": [
       "[]"
      ]
     },
     "execution_count": 6,
     "metadata": {},
     "output_type": "execute_result"
    }
   ],
   "source": [
    "sim_1(lista)"
   ]
  },
  {
   "cell_type": "code",
   "execution_count": null,
   "metadata": {},
   "outputs": [],
   "source": [
    "lista_1 = []\n",
    "start = 0\n",
    "def sim_1():\n",
    "    while True:\n",
    "        busca= lista[start]\n",
    "        lista_1 = [1 for i in lista_ordenada if i == 1]\n",
    "        if\n",
    "        break\n",
    "    return lista_1"
   ]
  },
  {
   "cell_type": "code",
   "execution_count": null,
   "metadata": {},
   "outputs": [],
   "source": [
    "lista1 = []\n",
    "lista2 = []\n",
    "lista3 = []\n",
    "lista4 = []\n",
    "lista5 = []\n",
    "lista6 = []\n",
    "lista9 = []\n",
    "lista13 = []\n",
    "lista15 = []\n",
    "lista30 = []\n",
    "lista45 = []\n",
    "lista_de_listas = []\n",
    "def lista_pronta(lista):\n",
    "    lista_ordenada = sorted(lista)\n",
    "    for i in lista_ordenada:\n",
    "        if i == 1:\n",
    "            lista1.append(i)\n",
    "        elif i == 2:\n",
    "            lista2.append(i)\n",
    "        elif i == 3:\n",
    "            lista3.append(i)\n",
    "        elif i == 4:\n",
    "            lista4.append(i)\n",
    "        elif i == 5:\n",
    "            lista5.append(i)\n",
    "        elif i == 30:\n",
    "            lista30.append(i)\n",
    "        elif i == 6:\n",
    "            lista6.append(i)\n",
    "        elif i == 9:\n",
    "            lista9.append(i)    \n",
    "        elif i == 15:\n",
    "            lista15.append(i)\n",
    "        elif i == 13:\n",
    "            lista13.append(i)\n",
    "        elif i == 45:\n",
    "            lista45.append(i)\n",
    "        lista_de_listas.append(lista45)\n",
    "        lista_de_listas.append(lista13)\n",
    "        lista_de_listas.append(lista15)\n",
    "        lista_de_listas.append(lista9)\n",
    "        lista_de_listas.append(lista6)\n",
    "        lista_de_listas.append(lista30\n",
    "        lista_de_listas.append(lista5)\n",
    "        lista_de_listas.append(lista4)\n",
    "        lista_de_listas.append(lista3)\n",
    "        lista_de_listas.append(lista2)\n",
    "        lista_de_listas.append(lista1)\n",
    "         return lista_de_listas"
   ]
  },
  {
   "cell_type": "code",
   "execution_count": null,
   "metadata": {},
   "outputs": [],
   "source": [
    "lista1  = []\n",
    "lista2  = []\n",
    "lista3  = []\n",
    "lista4  = []\n",
    "lista5  = []\n",
    "lista6  = []\n",
    "lista9  = []\n",
    "lista13 = []\n",
    "lista15 = []\n",
    "lista30 = []\n",
    "lista45 = []\n",
    "lista_de_listas = []\n",
    "def lista_pronta(lista):\n",
    "    for i in lista:\n",
    "        if i == 1:\n",
    "            lista1.append(i)\n",
    "        lista_de_listas.append(lista1)\n",
    "    for i in lista:\n",
    "        if i == 2:\n",
    "            lista2.append(i)\n",
    "        lista_de_listas.append(lista2)\n",
    "    for i in lista:\n",
    "        if i == 3:\n",
    "            lista3.append(i)\n",
    "        lista_de_listas.append(lista3)\n",
    "    for i in lista:\n",
    "        if i == 4:\n",
    "            lista4.append(i)\n",
    "            lista_de_listas.append(lista4)\n",
    "    for i in lista:\n",
    "        if i == 5:\n",
    "            lista5.append(i)\n",
    "            lista_de_listas.append(lista5)\n",
    "    for i in lista:\n",
    "        if i == 30:\n",
    "            lista30.append(i)\n",
    "            lista_de_listas.append(lista30)\n",
    "    for i in lista:\n",
    "        if i == 6:\n",
    "            lista6.append(i)\n",
    "            lista_de_listas.append(lista6)\n",
    "    for i in lista:\n",
    "        if i == 9:\n",
    "            lista9.append(i)\n",
    "            lista_de_listas.append(lista9)\n",
    "    for i in lista:\n",
    "        if i == 15:\n",
    "            lista15.append(i)\n",
    "            lista_de_listas.append(lista15)\n",
    "    for i in lista:\n",
    "        if i == 13:\n",
    "            lista13.append(i)\n",
    "            lista_de_listas.append(lista13)\n",
    "    for i in lista:\n",
    "        if i == 45:\n",
    "            lista45.append(i)\n",
    "            lista_de_listas.append(lista45)\n",
    "        lista_ordenada = sorted(lista_de_listas)\n",
    "        return lista_ordenada"
   ]
  },
  {
   "cell_type": "code",
   "execution_count": null,
   "metadata": {},
   "outputs": [],
   "source": [
    "lista_pronta(lista)"
   ]
  },
  {
   "cell_type": "code",
   "execution_count": null,
   "metadata": {},
   "outputs": [],
   "source": [
    "#seria possivel?\n",
    "for i in lista:\n",
    "        elif i == 2:\n",
    "            lista2.append(i) and lista_de_listas.append(lista2)"
   ]
  },
  {
   "cell_type": "code",
   "execution_count": null,
   "metadata": {},
   "outputs": [],
   "source": [
    "def fim():\n",
    "        lista_ordenada = sorted (lista)\n",
    "        lista_definitiva = [13 for i in lista_ordenada if i == 13]\n",
    "        lista_definitiva = [30 for i in lista_ordenada if i == 30]\n",
    "        lista_definitiva = [15 for i in lista_ordenada if i == 15]\n",
    "        lista_definitiva = [9 for i in lista_ordenada if i == 9]\n",
    "        lista_definitiva = [6 for i in lista_ordenada if i == 6]\n",
    "        lista_definitiva = [4 for i in lista_ordenada if i == 4]\n",
    "        lista_definitiva = [5 for i in lista_ordenada if i == 5]\n",
    "        lista_definitiva = [3 for i in lista_ordenada if i == 3]\n",
    "        lista_definitiva = [2 for i in lista_ordenada if i == 2]\n",
    "        lista_definitiva = [1 for i in lista_ordenada if i == 1]\n",
    "        return lista_definitiva\n",
    "   "
   ]
  },
  {
   "cell_type": "code",
   "execution_count": 3,
   "metadata": {},
   "outputs": [
    {
     "ename": "NameError",
     "evalue": "name 'lista_ordenada' is not defined",
     "output_type": "error",
     "traceback": [
      "\u001b[1;31m---------------------------------------------------------------------------\u001b[0m",
      "\u001b[1;31mNameError\u001b[0m                                 Traceback (most recent call last)",
      "\u001b[1;32m<ipython-input-3-b53f8ccb5649>\u001b[0m in \u001b[0;36m<module>\u001b[1;34m\u001b[0m\n\u001b[1;32m----> 1\u001b[1;33m \u001b[0mlista_definitiva\u001b[0m \u001b[1;33m=\u001b[0m \u001b[1;33m[\u001b[0m\u001b[1;36m4\u001b[0m \u001b[1;32mfor\u001b[0m \u001b[0mi\u001b[0m \u001b[1;32min\u001b[0m \u001b[0mlista_ordenada\u001b[0m \u001b[1;32mif\u001b[0m \u001b[0mi\u001b[0m \u001b[1;33m==\u001b[0m \u001b[1;36m4\u001b[0m\u001b[1;33m]\u001b[0m\u001b[1;33m\u001b[0m\u001b[1;33m\u001b[0m\u001b[0m\n\u001b[0m",
      "\u001b[1;31mNameError\u001b[0m: name 'lista_ordenada' is not defined"
     ]
    }
   ],
   "source": [
    "lista_definitiva = [4 for i in lista_ordenada if i == 4]"
   ]
  },
  {
   "cell_type": "code",
   "execution_count": null,
   "metadata": {},
   "outputs": [],
   "source": [
    "final_lista = [1 if i  == 1]"
   ]
  }
 ],
 "metadata": {
  "kernelspec": {
   "display_name": "Python 3",
   "language": "python",
   "name": "python3"
  },
  "language_info": {
   "codemirror_mode": {
    "name": "ipython",
    "version": 3
   },
   "file_extension": ".py",
   "mimetype": "text/x-python",
   "name": "python",
   "nbconvert_exporter": "python",
   "pygments_lexer": "ipython3",
   "version": "3.8.8"
  }
 },
 "nbformat": 4,
 "nbformat_minor": 4
}
