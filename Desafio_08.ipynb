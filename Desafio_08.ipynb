{
 "cells": [
  {
   "cell_type": "markdown",
   "metadata": {
    "colab_type": "text",
    "id": "view-in-github"
   },
   "source": [
    "![](https://i.imgur.com/YX6UATs.png)"
   ]
  },
  {
   "cell_type": "markdown",
   "metadata": {
    "colab_type": "text",
    "id": "o3tkeMDNf6Jo"
   },
   "source": [
    "### Desafio 8\n",
    "\n",
    "Escreva um script Python para encontrar as 10 palavras mais longas em um arquivo de texto.\n",
    "O arquivo .txt está localizado na mesma pasta do projeto (**texto.txt**)."
   ]
  },
  {
   "cell_type": "code",
   "execution_count": 32,
   "metadata": {
    "colab": {},
    "colab_type": "code",
    "id": "EknxjSG0f6Jo"
   },
   "outputs": [
    {
     "data": {
      "text/plain": [
       "['general-purpose,',\n",
       " 'object-oriented,',\n",
       " 'comprehensive',\n",
       " 'intermediate)',\n",
       " 'readability,',\n",
       " 'language.Its',\n",
       " 'interpreted,',\n",
       " 'programming',\n",
       " 'programmers',\n",
       " 'library.The',\n",
       " 'high-level,',\n",
       " 'imperative',\n",
       " 'philosophy',\n",
       " 'questions.',\n",
       " 'functional',\n",
       " 'procedural',\n",
       " 'paradigms,',\n",
       " 'emphasizes',\n",
       " '\\nlanguages',\n",
       " 'management',\n",
       " 'styles.It',\n",
       " '(beginner',\n",
       " 'including',\n",
       " 'automatic',\n",
       " 'language?',\n",
       " 'features',\n",
       " 'practice',\n",
       " 'standard',\n",
       " 'exercise',\n",
       " 'familiar',\n",
       " 'multiple',\n",
       " 'anything',\n",
       " 'possible',\n",
       " 'supports',\n",
       " 'concepts',\n",
       " 'Python.',\n",
       " 'express',\n",
       " '\\nPython',\n",
       " 'dynamic',\n",
       " 'started',\n",
       " 'section',\n",
       " 'system',\n",
       " 'widely',\n",
       " 'memory',\n",
       " 'allows',\n",
       " 'design',\n",
       " 'syntax',\n",
       " 'Python',\n",
       " 'large',\n",
       " 'those',\n",
       " 'fewer',\n",
       " 'lines',\n",
       " 'learn',\n",
       " 'Java.',\n",
       " 'with',\n",
       " 'What',\n",
       " 'this',\n",
       " 'best',\n",
       " 'used',\n",
       " 'code',\n",
       " 'type',\n",
       " 'have',\n",
       " 'such',\n",
       " 'than',\n",
       " 'for',\n",
       " 'way',\n",
       " 'who',\n",
       " 'has',\n",
       " 'and',\n",
       " 'its',\n",
       " 'are',\n",
       " 'C++',\n",
       " 'to',\n",
       " 'is',\n",
       " 'of',\n",
       " 'or',\n",
       " 'as',\n",
       " 'in',\n",
       " 'we',\n",
       " 'We',\n",
       " 'by',\n",
       " 'a',\n",
       " '']"
      ]
     },
     "execution_count": 32,
     "metadata": {},
     "output_type": "execute_result"
    }
   ],
   "source": [
    "# Seu código\n",
    "with open( 'texto.txt', 'r') as f:\n",
    "    texto = f.read()\n",
    "sorted(set(texto.split(\" \")), key= len, reverse= True)    "
   ]
  },
  {
   "cell_type": "code",
   "execution_count": 36,
   "metadata": {},
   "outputs": [
    {
     "ename": "SyntaxError",
     "evalue": "invalid syntax (<ipython-input-36-9171a03b17b5>, line 6)",
     "output_type": "error",
     "traceback": [
      "\u001b[1;36m  File \u001b[1;32m\"<ipython-input-36-9171a03b17b5>\"\u001b[1;36m, line \u001b[1;32m6\u001b[0m\n\u001b[1;33m    biggest_10 =[i for i in a range(0,10)]   # como posso fazer o range sobre o lista para retornar\u001b[0m\n\u001b[1;37m                              ^\u001b[0m\n\u001b[1;31mSyntaxError\u001b[0m\u001b[1;31m:\u001b[0m invalid syntax\n"
     ]
    }
   ],
   "source": [
    "with open( 'texto.txt', 'r') as f:                      \n",
    "    texto = f.read()\n",
    "a = sorted(set(texto.split(\" \")), key= len, reverse= True)\n",
    "biggest_10 = []\n",
    "def biggest(a):\n",
    "    biggest_10 =[i for i in a range(0,10)]   # como posso fazer o range sobre o lista para retornar \n",
    "    return biggest_10                        #uma lista somente com as 10 maiores palavras  ?   "
   ]
  },
  {
   "cell_type": "code",
   "execution_count": 37,
   "metadata": {
    "colab": {},
    "colab_type": "code",
    "id": "ZYbqEWBG5nKx",
    "tags": []
   },
   "outputs": [
    {
     "data": {
      "text/plain": [
       "[0, 1, 2, 3, 4, 5, 6, 7, 8, 9]"
      ]
     },
     "execution_count": 37,
     "metadata": {},
     "output_type": "execute_result"
    }
   ],
   "source": [
    "biggest(a)"
   ]
  },
  {
   "cell_type": "code",
   "execution_count": null,
   "metadata": {},
   "outputs": [],
   "source": []
  }
 ],
 "metadata": {
  "anaconda-cloud": {},
  "colab": {
   "include_colab_link": true,
   "name": "Desafio 8.ipynb",
   "provenance": []
  },
  "kernelspec": {
   "display_name": "Python 3",
   "language": "python",
   "name": "python3"
  },
  "language_info": {
   "codemirror_mode": {
    "name": "ipython",
    "version": 3
   },
   "file_extension": ".py",
   "mimetype": "text/x-python",
   "name": "python",
   "nbconvert_exporter": "python",
   "pygments_lexer": "ipython3",
   "version": "3.8.8"
  }
 },
 "nbformat": 4,
 "nbformat_minor": 4
}
